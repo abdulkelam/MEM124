{
 "cells": [
  {
   "cell_type": "code",
   "execution_count": 4,
   "metadata": {},
   "outputs": [
    {
     "name": "stdout",
     "output_type": "stream",
     "text": [
      "choose way number\n",
      "1. way is find hipotenüs,2.way is show number,3.way is arithmetic mean \n",
      "a way number3\n",
      "please enter six numbers ,we will find arithmetic mean\n",
      "please enter first number  =1\n",
      "please enter second number =2\n",
      "please enter third number  =3\n",
      "please enter fourth number =4\n",
      "please enter fifth number  =5\n",
      "please enter sixht number  =6\n",
      "3.5\n"
     ]
    }
   ],
   "source": [
    "print('choose way number')\n",
    "print('1. way is find hipotenüs,2.way is show number,3.way is arithmetic mean ')\n",
    "way = int(input(\"a way number\")) \n",
    "if way!=1 and way!=2 and way!=3:\n",
    "     print('retrun the code!!')\n",
    "elif way==1:\n",
    "    A = int(input(\"please enter first edges\"))\n",
    "    B = int(input(\"please enter second edges\"))\n",
    "    print('hipotenüs=',(((A**2)+(B**2))**0.5))\n",
    "elif way==3:\n",
    "    print('please enter six numbers ,we will find arithmetic mean')\n",
    "    z=int(input('please enter first number  ='))\n",
    "    x=int(input('please enter second number ='))    \n",
    "    c=int(input('please enter third number  ='))       \n",
    "    v=int(input('please enter fourth number ='))\n",
    "    n=int(input('please enter fifth number  ='))\n",
    "    m=int(input('please enter sixht number  ='))\n",
    "    print((z+x+c+v+n+m)/6)\n",
    "elif way==2:\n",
    "    i = 1\n",
    "    value = int(input(\"enter a vaule\"))\n",
    "    while i<=value:\n",
    "        print (i)\n",
    "        i += 1"
   ]
  },
  {
   "cell_type": "code",
   "execution_count": null,
   "metadata": {},
   "outputs": [],
   "source": []
  }
 ],
 "metadata": {
  "kernelspec": {
   "display_name": "Python 3",
   "language": "python",
   "name": "python3"
  },
  "language_info": {
   "codemirror_mode": {
    "name": "ipython",
    "version": 3
   },
   "file_extension": ".py",
   "mimetype": "text/x-python",
   "name": "python",
   "nbconvert_exporter": "python",
   "pygments_lexer": "ipython3",
   "version": "3.6.7"
  }
 },
 "nbformat": 4,
 "nbformat_minor": 2
}
