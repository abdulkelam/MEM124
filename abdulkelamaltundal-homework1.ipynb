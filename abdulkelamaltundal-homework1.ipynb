{
 "cells": [
  {
   "cell_type": "code",
   "execution_count": 1,
   "metadata": {},
   "outputs": [
    {
     "name": "stdout",
     "output_type": "stream",
     "text": [
      "foncion format like; (Ax²+Bx+C) ,(Ax²-Bx-C),(Ax²+C),(Ax²-C),(Bx+C)...\n",
      "Enter -> Ax² just A:2\n",
      "Enter -> Bx just B:-6\n",
      "Enter -> C just C:1\n",
      "for a= 2 and b= -6 and c= 1 =>Δ= 28\n",
      "BE CAREFUL!! if Discriminate is less than zero, both solutions are not real numbers.\n",
      "if (Δ >0) or (Δ =0) ,you can use it. and can find solutions.\n",
      "be careful! when you write the Discriminate value.\n",
      "The Discriminate value Δ=28\n",
      "solution\n",
      "Δ= 28\n",
      "x1= 2.8228756555322954\n",
      "x2= 0.17712434446770464\n"
     ]
    }
   ],
   "source": [
    "print('foncion format like; (Ax²+Bx+C) ,(Ax²-Bx-C),(Ax²+C),(Ax²-C),(Bx+C)...')\n",
    "A = int(input(\"Enter -> Ax² just A:\")) # foncion format like Ax²+Bx+C\n",
    "B = int(input(\"Enter -> Bx just B:\"))\n",
    "C = int(input(\"Enter -> C just C:\"))\n",
    "print('for','a=',A,'and','b=',B,'and','c=',C,'=>'  'Δ=',B*B-4*A*C)\n",
    "print(\"BE CAREFUL!! if Discriminate is less than zero, both solutions are not real numbers.\")\n",
    "print(\"if (Δ >0) or (Δ =0) ,you can use it. and can find solutions.\")\n",
    "print(\"be careful! when you write the Discriminate value.\")\n",
    "Δ = int(input(\"The Discriminate value Δ=\"))\n",
    "print('solution')\n",
    "print('Δ=',B*B-4*A*C)\n",
    "print('x1=',((-1*B)+(Δ**0.5))/(2*A))\n",
    "print('x2=',((-1*B)-(Δ**0.5))/(2*A))"
   ]
  },
  {
   "cell_type": "code",
   "execution_count": null,
   "metadata": {},
   "outputs": [],
   "source": []
  }
 ],
 "metadata": {
  "kernelspec": {
   "display_name": "Python 3",
   "language": "python",
   "name": "python3"
  },
  "language_info": {
   "codemirror_mode": {
    "name": "ipython",
    "version": 3
   },
   "file_extension": ".py",
   "mimetype": "text/x-python",
   "name": "python",
   "nbconvert_exporter": "python",
   "pygments_lexer": "ipython3",
   "version": "3.6.7"
  }
 },
 "nbformat": 4,
 "nbformat_minor": 2
}
